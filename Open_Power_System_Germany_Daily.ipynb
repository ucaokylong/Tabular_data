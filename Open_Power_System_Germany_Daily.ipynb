{
  "cells": [
    {
      "cell_type": "markdown",
      "metadata": {
        "id": "view-in-github",
        "colab_type": "text"
      },
      "source": [
        "<a href=\"https://colab.research.google.com/github/ucaokylong/Tabular_data/blob/main/Open_Power_System_Germany_Daily.ipynb\" target=\"_parent\"><img src=\"https://colab.research.google.com/assets/colab-badge.svg\" alt=\"Open In Colab\"/></a>"
      ]
    },
    {
      "cell_type": "markdown",
      "source": [
        "## 0. Tải bộ dữ liệu\n",
        "**Lưu ý:** Nếu không thể tải bằng gdown do bị giới hạn số lượt tải, các bạn hãy tải thủ công và đưa lên drive của mình, sau đó copy từ drive vào colab.\n",
        "```python\n",
        "from google.colab import drive\n",
        "\n",
        "drive.mount('/content/drive')\n",
        "!cp /path/to/dataset/on/your/drive .\n",
        "```"
      ],
      "metadata": {
        "id": "EG4pEApweeMi"
      }
    },
    {
      "cell_type": "code",
      "source": [
        "# Dataset B: https://drive.google.com/file/d/1AgxgBt8vArpdxheUqGlbZHqDe_Jatmxv/view?usp=share_link\n",
        "!gdown --id 1AgxgBt8vArpdxheUqGlbZHqDe_Jatmxv"
      ],
      "metadata": {
        "id": "V2H_gNugelj6"
      },
      "execution_count": null,
      "outputs": []
    },
    {
      "cell_type": "markdown",
      "source": [
        "## 1. Import thư viện và load dataset"
      ],
      "metadata": {
        "id": "HFEIxRlSs3N3"
      }
    },
    {
      "cell_type": "code",
      "source": [
        "import numpy as np\n",
        "import pandas as pd\n",
        "import matplotlib.pyplot as plt \n",
        "import seaborn as sns"
      ],
      "metadata": {
        "id": "IUtg_mtCtDAw"
      },
      "execution_count": null,
      "outputs": []
    },
    {
      "cell_type": "code",
      "source": [
        "dataset_path = './opsd_germany_daily.csv'\n",
        "\n",
        "# Read data from .csv file\n",
        "opsd_daily = pd.read_csv(dataset_path)\n",
        "\n",
        "print(opsd_daily.shape)\n",
        "print(opsd_daily.dtypes)\n",
        "opsd_daily.head(3)"
      ],
      "metadata": {
        "id": "wIgPwXSSs7m-"
      },
      "execution_count": null,
      "outputs": []
    },
    {
      "cell_type": "code",
      "source": [
        "opsd_daily = opsd_daily.set_index('Date')\n",
        "opsd_daily.head(3)"
      ],
      "metadata": {
        "id": "MEcoozJCU3ck"
      },
      "execution_count": null,
      "outputs": []
    },
    {
      "cell_type": "code",
      "source": [
        "opsd_daily = pd.read_csv(dataset_path, index_col=0, parse_dates=True)\n",
        "\n",
        "# Add columns with year, month, and weekday name\n",
        "opsd_daily['Year'] = opsd_daily.index.year\n",
        "opsd_daily['Month'] = opsd_daily.index.month\n",
        "opsd_daily['Weekday Name'] = opsd_daily.index.day_name()\n",
        "# Display a random sampling of 5 rows\n",
        "opsd_daily.sample(5, random_state=0)"
      ],
      "metadata": {
        "id": "cfApKqQ_VO3O"
      },
      "execution_count": null,
      "outputs": []
    },
    {
      "cell_type": "markdown",
      "source": [
        "## 2. Time-based indexing"
      ],
      "metadata": {
        "id": "7R3WteHBtqUi"
      }
    },
    {
      "cell_type": "code",
      "source": [
        "opsd_daily.loc['2014-01-20':'2014-01-22']"
      ],
      "metadata": {
        "id": "p_u3HK5TtsCo"
      },
      "execution_count": null,
      "outputs": []
    },
    {
      "cell_type": "code",
      "source": [
        "new_opsd_df = opsd_daily.loc['2012-02']\n",
        "new_opsd_df.head()"
      ],
      "metadata": {
        "id": "7pUnwaeOXWul"
      },
      "execution_count": null,
      "outputs": []
    },
    {
      "cell_type": "markdown",
      "source": [
        "## 3. Visualizing time series data"
      ],
      "metadata": {
        "id": "sorlf3npu1yy"
      }
    },
    {
      "cell_type": "code",
      "source": [
        "# Use seaborn style defaults and set the default figure size\n",
        "sns.set(rc={'figure.figsize':(11, 4)})\n",
        "col_to_plot = 'Consumption'\n",
        "opsd_daily[col_to_plot].plot(linewidth=1)\n",
        "plt.ylabel(col_to_plot)\n",
        "plt.show()"
      ],
      "metadata": {
        "id": "1m4nB_2EYUYz"
      },
      "execution_count": null,
      "outputs": []
    },
    {
      "cell_type": "code",
      "source": [
        "cols_plot = ['Consumption', 'Solar', 'Wind']\n",
        "axes = opsd_daily[cols_plot].plot(\n",
        "    marker='.', \n",
        "    alpha=0.5, \n",
        "    linestyle='None', \n",
        "    figsize=(11, 9), \n",
        "    subplots=True\n",
        ")\n",
        "for ax in axes:\n",
        "    ax.set_ylabel('Daily Totals (GWh)')\n",
        "    \n",
        "plt.show()"
      ],
      "metadata": {
        "id": "zq_w-al0ZZaa"
      },
      "execution_count": null,
      "outputs": []
    },
    {
      "cell_type": "markdown",
      "source": [
        "## 4. Seasonality\n",
        "\n"
      ],
      "metadata": {
        "id": "OwNLOvdSvqoH"
      }
    },
    {
      "cell_type": "code",
      "source": [
        "fig, axes = plt.subplots(3, 1, figsize=(11, 10), sharex=True)\n",
        "for name, ax in zip(['Consumption', 'Solar', 'Wind'], axes):\n",
        "    sns.boxplot(data=opsd_daily, x='Month', y=name, ax=ax)\n",
        "    ax.set_ylabel('GWh')\n",
        "    ax.set_title(name)\n",
        "    # Remove the automatic x-axis label from all but the bottom subplot\n",
        "    if ax != axes[-1]:\n",
        "        ax.set_xlabel('')"
      ],
      "metadata": {
        "id": "d92uDizccAeb"
      },
      "execution_count": null,
      "outputs": []
    },
    {
      "cell_type": "markdown",
      "source": [
        "## 5. Frequencies\n",
        "\n"
      ],
      "metadata": {
        "id": "xrtKrw8jy7nv"
      }
    },
    {
      "cell_type": "code",
      "source": [
        "pd.date_range('1998-03-10', '1998-03-15', freq='D')"
      ],
      "metadata": {
        "id": "HbZa3Yqny9oF"
      },
      "execution_count": null,
      "outputs": []
    },
    {
      "cell_type": "code",
      "source": [
        "pd.date_range('2004-09-20', periods=8, freq='H')"
      ],
      "metadata": {
        "id": "s-tHGP1Lsm87"
      },
      "execution_count": null,
      "outputs": []
    },
    {
      "cell_type": "code",
      "source": [
        "# To select an arbitrary sequence of date/time values from a pandas time series,\n",
        "# we need to use a DatetimeIndex, rather than simply a list of date/time strings\n",
        "times_sample = pd.to_datetime(['2013-02-03', '2013-02-06', '2013-02-08'])\n",
        "# Select the specified dates and just the Consumption column\n",
        "consum_sample = opsd_daily.loc[times_sample, ['Consumption']].copy()\n",
        "consum_sample"
      ],
      "metadata": {
        "id": "Zj2GSxotqBfP"
      },
      "execution_count": null,
      "outputs": []
    },
    {
      "cell_type": "code",
      "source": [
        "# Convert the data to daily frequency, without filling any missings\n",
        "consum_freq = consum_sample.asfreq('D')\n",
        "# Create a column with missings forward filled\n",
        "consum_freq['Consumption - Forward Fill'] = consum_sample.asfreq('D', method='ffill')\n",
        "consum_freq"
      ],
      "metadata": {
        "id": "w0TSHqj-sP8a"
      },
      "execution_count": null,
      "outputs": []
    },
    {
      "cell_type": "markdown",
      "source": [
        "## 6. Resampling"
      ],
      "metadata": {
        "id": "tzk-PX752Dtp"
      }
    },
    {
      "cell_type": "code",
      "source": [
        "# Specify the data columns we want to include (i.e. exclude Year, Month, Weekday Name)\n",
        "data_columns = ['Consumption', 'Wind', 'Solar', 'Wind+Solar']\n",
        "# Resample to weekly frequency, aggregating with mean\n",
        "opsd_weekly_mean = opsd_daily[data_columns].resample('W').mean()\n",
        "opsd_weekly_mean.head(3)"
      ],
      "metadata": {
        "id": "sBt20LA22FKZ"
      },
      "execution_count": null,
      "outputs": []
    },
    {
      "cell_type": "code",
      "source": [
        "print(opsd_daily.shape[0])\n",
        "print(opsd_weekly_mean.shape[0])"
      ],
      "metadata": {
        "id": "7UD86UIgxtj7"
      },
      "execution_count": null,
      "outputs": []
    },
    {
      "cell_type": "code",
      "source": [
        "# Start and end of the date range to extract\n",
        "start, end = '2017-01', '2017-06'\n",
        "# Plot daily and weekly resampled time series together\n",
        "fig, ax = plt.subplots()\n",
        "ax.plot(opsd_daily.loc[start:end, 'Solar'],\n",
        "marker='.', linestyle='-', linewidth=0.5, label='Daily')\n",
        "ax.plot(opsd_weekly_mean.loc[start:end, 'Solar'],\n",
        "marker='o', markersize=8, linestyle='-', label='Weekly Mean Resample')\n",
        "ax.set_ylabel('Solar Production (GWh)')\n",
        "ax.legend()\n",
        "plt.show()"
      ],
      "metadata": {
        "id": "uMbbk9WYxt_e"
      },
      "execution_count": null,
      "outputs": []
    },
    {
      "cell_type": "code",
      "source": [
        "# Compute the annual sums, setting the value to NaN for any year which has\n",
        "# fewer than 360 days of data\n",
        "opsd_annual = opsd_daily[data_columns].resample('A').sum(min_count=360)\n",
        "# The default index of the resampled DataFrame is the last day of each year,\n",
        "# ('2006-12-31', '2007-12-31', etc.) so to make life easier, set the index\n",
        "# to the year component\n",
        "opsd_annual = opsd_annual.set_index(opsd_annual.index.year)\n",
        "opsd_annual.index.name = 'Year'\n",
        "# Compute the ratio of Wind+Solar to Consumption\n",
        "opsd_annual['Wind+Solar/Consumption'] = opsd_annual['Wind+Solar'] / opsd_annual['Consumption']\n",
        "opsd_annual.tail(3)"
      ],
      "metadata": {
        "id": "8aZjp0nSyu-k"
      },
      "execution_count": null,
      "outputs": []
    },
    {
      "cell_type": "code",
      "source": [
        "# Plot from 2012 onwards, because there is no solar production data in earlier years\n",
        "ax = opsd_annual.loc[2012:, 'Wind+Solar/Consumption'].plot.bar(color='C0')\n",
        "ax.set_ylabel('Fraction')\n",
        "ax.set_ylim(0, 0.3)\n",
        "ax.set_title('Wind + Solar Share of Annual Electricity Consumption')\n",
        "plt.xticks(rotation=0)\n",
        "plt.show()"
      ],
      "metadata": {
        "id": "oIAiPJqp04XA"
      },
      "execution_count": null,
      "outputs": []
    },
    {
      "cell_type": "markdown",
      "source": [
        "## 7. Rolling windows"
      ],
      "metadata": {
        "id": "PofKg0984JaI"
      }
    },
    {
      "cell_type": "code",
      "source": [
        "# Compute the centered 7-day rolling mean\n",
        "opsd_7d = opsd_daily[data_columns].rolling(7, center=True).mean()\n",
        "opsd_7d.head(8)"
      ],
      "metadata": {
        "id": "PRnlQh0U4IdA"
      },
      "execution_count": null,
      "outputs": []
    },
    {
      "cell_type": "markdown",
      "source": [
        "## 8. Trends"
      ],
      "metadata": {
        "id": "dDbAOhAhL9gd"
      }
    },
    {
      "cell_type": "code",
      "source": [
        "import matplotlib.dates as mdates\n",
        "\n",
        "# The min_periods=360 argument accounts for a few isolated missing days in the\n",
        "# wind and solar production time series\n",
        "opsd_365d = opsd_daily[data_columns].rolling(window=365, center=True, min_periods=360).mean()\n",
        "\n",
        "# Plot daily, 7-day rolling mean, and 365-day rolling mean time series\n",
        "fig, ax = plt.subplots()\n",
        "ax.plot(opsd_daily['Consumption'], marker='.', markersize=2, color='0.6',\n",
        "linestyle='None', label='Daily')\n",
        "ax.plot(opsd_7d['Consumption'], linewidth=2, label='7-d Rolling Mean')\n",
        "ax.plot(opsd_365d['Consumption'], color='0.2', linewidth=3,\n",
        "label='Trend (365-d Rolling Mean)')\n",
        "# Set x-ticks to yearly interval and add legend and labels\n",
        "ax.xaxis.set_major_locator(mdates.YearLocator())\n",
        "ax.legend()\n",
        "ax.set_xlabel('Year')\n",
        "ax.set_ylabel('Consumption (GWh)')\n",
        "ax.set_title('Trends in Electricity Consumption')\n",
        "plt.show()"
      ],
      "metadata": {
        "id": "E4wJPx7XL-r8"
      },
      "execution_count": null,
      "outputs": []
    },
    {
      "cell_type": "code",
      "source": [
        "# Plot 365-day rolling mean time series of wind and solar power\n",
        "fig, ax = plt.subplots()\n",
        "for nm in ['Wind', 'Solar', 'Wind+Solar']:\n",
        "    ax.plot(opsd_365d[nm], label=nm)\n",
        "    # Set x-ticks to yearly interval, adjust y-axis limits, add legend and labels\n",
        "    ax.xaxis.set_major_locator(mdates.YearLocator())\n",
        "    ax.set_ylim(0, 400)\n",
        "    ax.legend()\n",
        "    ax.set_ylabel('Production (GWh)')\n",
        "    ax.set_title('Trends in Electricity Production (365-d Rolling Means)')\n",
        "plt.show()"
      ],
      "metadata": {
        "id": "rJxot74p6IOC"
      },
      "execution_count": null,
      "outputs": []
    }
  ],
  "metadata": {
    "accelerator": "GPU",
    "colab": {
      "provenance": [],
      "private_outputs": true,
      "include_colab_link": true
    },
    "kernelspec": {
      "display_name": "Python 3 (ipykernel)",
      "language": "python",
      "name": "python3"
    },
    "language_info": {
      "codemirror_mode": {
        "name": "ipython",
        "version": 3
      },
      "file_extension": ".py",
      "mimetype": "text/x-python",
      "name": "python",
      "nbconvert_exporter": "python",
      "pygments_lexer": "ipython3",
      "version": "3.9.7"
    },
    "gpuClass": "standard"
  },
  "nbformat": 4,
  "nbformat_minor": 0
}